{
 "cells": [
  {
   "cell_type": "markdown",
   "id": "4a6de055",
   "metadata": {},
   "source": [
    "### Importing Libraries"
   ]
  },
  {
   "cell_type": "code",
   "execution_count": 1,
   "id": "73bf915e",
   "metadata": {},
   "outputs": [],
   "source": [
    "import  numpy as np\n",
    "import  pandas as pd\n",
    "import seaborn as sns\n",
    "import matplotlib.pyplot as plt\n",
    "%matplotlib inline"
   ]
  },
  {
   "cell_type": "markdown",
   "id": "2ad14b45",
   "metadata": {},
   "source": [
    "### Cleaning Dataset"
   ]
  },
  {
   "cell_type": "code",
   "execution_count": 2,
   "id": "007dd947",
   "metadata": {},
   "outputs": [],
   "source": [
    "loan = pd.read_csv('loan_dataset.csv')"
   ]
  },
  {
   "cell_type": "code",
   "execution_count": 3,
   "id": "407982c9",
   "metadata": {},
   "outputs": [
    {
     "data": {
      "text/html": [
       "<div>\n",
       "<style scoped>\n",
       "    .dataframe tbody tr th:only-of-type {\n",
       "        vertical-align: middle;\n",
       "    }\n",
       "\n",
       "    .dataframe tbody tr th {\n",
       "        vertical-align: top;\n",
       "    }\n",
       "\n",
       "    .dataframe thead th {\n",
       "        text-align: right;\n",
       "    }\n",
       "</style>\n",
       "<table border=\"1\" class=\"dataframe\">\n",
       "  <thead>\n",
       "    <tr style=\"text-align: right;\">\n",
       "      <th></th>\n",
       "      <th>Loan_ID</th>\n",
       "      <th>Gender</th>\n",
       "      <th>Married</th>\n",
       "      <th>Dependents</th>\n",
       "      <th>Education</th>\n",
       "      <th>Self_Employed</th>\n",
       "      <th>ApplicantIncome</th>\n",
       "      <th>CoapplicantIncome</th>\n",
       "      <th>LoanAmount</th>\n",
       "      <th>Loan_Amount_Term</th>\n",
       "      <th>Credit_History</th>\n",
       "      <th>Property_Area</th>\n",
       "      <th>Loan_Status</th>\n",
       "    </tr>\n",
       "  </thead>\n",
       "  <tbody>\n",
       "    <tr>\n",
       "      <th>0</th>\n",
       "      <td>LP001002</td>\n",
       "      <td>Male</td>\n",
       "      <td>No</td>\n",
       "      <td>0</td>\n",
       "      <td>Graduate</td>\n",
       "      <td>No</td>\n",
       "      <td>5849</td>\n",
       "      <td>0.0</td>\n",
       "      <td>NaN</td>\n",
       "      <td>360.0</td>\n",
       "      <td>1.0</td>\n",
       "      <td>Urban</td>\n",
       "      <td>Y</td>\n",
       "    </tr>\n",
       "    <tr>\n",
       "      <th>1</th>\n",
       "      <td>LP001003</td>\n",
       "      <td>Male</td>\n",
       "      <td>Yes</td>\n",
       "      <td>1</td>\n",
       "      <td>Graduate</td>\n",
       "      <td>No</td>\n",
       "      <td>4583</td>\n",
       "      <td>1508.0</td>\n",
       "      <td>128.0</td>\n",
       "      <td>360.0</td>\n",
       "      <td>1.0</td>\n",
       "      <td>Rural</td>\n",
       "      <td>N</td>\n",
       "    </tr>\n",
       "    <tr>\n",
       "      <th>2</th>\n",
       "      <td>LP001005</td>\n",
       "      <td>Male</td>\n",
       "      <td>Yes</td>\n",
       "      <td>0</td>\n",
       "      <td>Graduate</td>\n",
       "      <td>Yes</td>\n",
       "      <td>3000</td>\n",
       "      <td>0.0</td>\n",
       "      <td>66.0</td>\n",
       "      <td>360.0</td>\n",
       "      <td>1.0</td>\n",
       "      <td>Urban</td>\n",
       "      <td>Y</td>\n",
       "    </tr>\n",
       "    <tr>\n",
       "      <th>3</th>\n",
       "      <td>LP001006</td>\n",
       "      <td>Male</td>\n",
       "      <td>Yes</td>\n",
       "      <td>0</td>\n",
       "      <td>Not Graduate</td>\n",
       "      <td>No</td>\n",
       "      <td>2583</td>\n",
       "      <td>2358.0</td>\n",
       "      <td>120.0</td>\n",
       "      <td>360.0</td>\n",
       "      <td>1.0</td>\n",
       "      <td>Urban</td>\n",
       "      <td>Y</td>\n",
       "    </tr>\n",
       "    <tr>\n",
       "      <th>4</th>\n",
       "      <td>LP001008</td>\n",
       "      <td>Male</td>\n",
       "      <td>No</td>\n",
       "      <td>0</td>\n",
       "      <td>Graduate</td>\n",
       "      <td>No</td>\n",
       "      <td>6000</td>\n",
       "      <td>0.0</td>\n",
       "      <td>141.0</td>\n",
       "      <td>360.0</td>\n",
       "      <td>1.0</td>\n",
       "      <td>Urban</td>\n",
       "      <td>Y</td>\n",
       "    </tr>\n",
       "    <tr>\n",
       "      <th>...</th>\n",
       "      <td>...</td>\n",
       "      <td>...</td>\n",
       "      <td>...</td>\n",
       "      <td>...</td>\n",
       "      <td>...</td>\n",
       "      <td>...</td>\n",
       "      <td>...</td>\n",
       "      <td>...</td>\n",
       "      <td>...</td>\n",
       "      <td>...</td>\n",
       "      <td>...</td>\n",
       "      <td>...</td>\n",
       "      <td>...</td>\n",
       "    </tr>\n",
       "    <tr>\n",
       "      <th>976</th>\n",
       "      <td>LP002971</td>\n",
       "      <td>Male</td>\n",
       "      <td>Yes</td>\n",
       "      <td>3+</td>\n",
       "      <td>Not Graduate</td>\n",
       "      <td>Yes</td>\n",
       "      <td>4009</td>\n",
       "      <td>1777.0</td>\n",
       "      <td>113.0</td>\n",
       "      <td>360.0</td>\n",
       "      <td>1.0</td>\n",
       "      <td>Urban</td>\n",
       "      <td>Y</td>\n",
       "    </tr>\n",
       "    <tr>\n",
       "      <th>977</th>\n",
       "      <td>LP002975</td>\n",
       "      <td>Male</td>\n",
       "      <td>Yes</td>\n",
       "      <td>0</td>\n",
       "      <td>Graduate</td>\n",
       "      <td>No</td>\n",
       "      <td>4158</td>\n",
       "      <td>709.0</td>\n",
       "      <td>115.0</td>\n",
       "      <td>360.0</td>\n",
       "      <td>1.0</td>\n",
       "      <td>Urban</td>\n",
       "      <td>Y</td>\n",
       "    </tr>\n",
       "    <tr>\n",
       "      <th>978</th>\n",
       "      <td>LP002980</td>\n",
       "      <td>Male</td>\n",
       "      <td>No</td>\n",
       "      <td>0</td>\n",
       "      <td>Graduate</td>\n",
       "      <td>No</td>\n",
       "      <td>3250</td>\n",
       "      <td>1993.0</td>\n",
       "      <td>126.0</td>\n",
       "      <td>360.0</td>\n",
       "      <td>NaN</td>\n",
       "      <td>Semiurban</td>\n",
       "      <td>Y</td>\n",
       "    </tr>\n",
       "    <tr>\n",
       "      <th>979</th>\n",
       "      <td>LP002986</td>\n",
       "      <td>Male</td>\n",
       "      <td>Yes</td>\n",
       "      <td>0</td>\n",
       "      <td>Graduate</td>\n",
       "      <td>No</td>\n",
       "      <td>5000</td>\n",
       "      <td>2393.0</td>\n",
       "      <td>158.0</td>\n",
       "      <td>360.0</td>\n",
       "      <td>1.0</td>\n",
       "      <td>Rural</td>\n",
       "      <td>Y</td>\n",
       "    </tr>\n",
       "    <tr>\n",
       "      <th>980</th>\n",
       "      <td>LP002989</td>\n",
       "      <td>Male</td>\n",
       "      <td>No</td>\n",
       "      <td>0</td>\n",
       "      <td>Graduate</td>\n",
       "      <td>Yes</td>\n",
       "      <td>9200</td>\n",
       "      <td>0.0</td>\n",
       "      <td>98.0</td>\n",
       "      <td>180.0</td>\n",
       "      <td>1.0</td>\n",
       "      <td>Rural</td>\n",
       "      <td>Y</td>\n",
       "    </tr>\n",
       "  </tbody>\n",
       "</table>\n",
       "<p>981 rows × 13 columns</p>\n",
       "</div>"
      ],
      "text/plain": [
       "      Loan_ID Gender Married Dependents     Education Self_Employed  \\\n",
       "0    LP001002   Male      No          0      Graduate            No   \n",
       "1    LP001003   Male     Yes          1      Graduate            No   \n",
       "2    LP001005   Male     Yes          0      Graduate           Yes   \n",
       "3    LP001006   Male     Yes          0  Not Graduate            No   \n",
       "4    LP001008   Male      No          0      Graduate            No   \n",
       "..        ...    ...     ...        ...           ...           ...   \n",
       "976  LP002971   Male     Yes         3+  Not Graduate           Yes   \n",
       "977  LP002975   Male     Yes          0      Graduate            No   \n",
       "978  LP002980   Male      No          0      Graduate            No   \n",
       "979  LP002986   Male     Yes          0      Graduate            No   \n",
       "980  LP002989   Male      No          0      Graduate           Yes   \n",
       "\n",
       "     ApplicantIncome  CoapplicantIncome  LoanAmount  Loan_Amount_Term  \\\n",
       "0               5849                0.0         NaN             360.0   \n",
       "1               4583             1508.0       128.0             360.0   \n",
       "2               3000                0.0        66.0             360.0   \n",
       "3               2583             2358.0       120.0             360.0   \n",
       "4               6000                0.0       141.0             360.0   \n",
       "..               ...                ...         ...               ...   \n",
       "976             4009             1777.0       113.0             360.0   \n",
       "977             4158              709.0       115.0             360.0   \n",
       "978             3250             1993.0       126.0             360.0   \n",
       "979             5000             2393.0       158.0             360.0   \n",
       "980             9200                0.0        98.0             180.0   \n",
       "\n",
       "     Credit_History Property_Area Loan_Status  \n",
       "0               1.0         Urban           Y  \n",
       "1               1.0         Rural           N  \n",
       "2               1.0         Urban           Y  \n",
       "3               1.0         Urban           Y  \n",
       "4               1.0         Urban           Y  \n",
       "..              ...           ...         ...  \n",
       "976             1.0         Urban           Y  \n",
       "977             1.0         Urban           Y  \n",
       "978             NaN     Semiurban           Y  \n",
       "979             1.0         Rural           Y  \n",
       "980             1.0         Rural           Y  \n",
       "\n",
       "[981 rows x 13 columns]"
      ]
     },
     "execution_count": 3,
     "metadata": {},
     "output_type": "execute_result"
    }
   ],
   "source": [
    "loan"
   ]
  },
  {
   "cell_type": "code",
   "execution_count": 4,
   "id": "a475dc36",
   "metadata": {},
   "outputs": [
    {
     "name": "stdout",
     "output_type": "stream",
     "text": [
      "<class 'pandas.core.frame.DataFrame'>\n",
      "RangeIndex: 981 entries, 0 to 980\n",
      "Data columns (total 13 columns):\n",
      " #   Column             Non-Null Count  Dtype  \n",
      "---  ------             --------------  -----  \n",
      " 0   Loan_ID            981 non-null    object \n",
      " 1   Gender             957 non-null    object \n",
      " 2   Married            978 non-null    object \n",
      " 3   Dependents         956 non-null    object \n",
      " 4   Education          981 non-null    object \n",
      " 5   Self_Employed      926 non-null    object \n",
      " 6   ApplicantIncome    981 non-null    int64  \n",
      " 7   CoapplicantIncome  981 non-null    float64\n",
      " 8   LoanAmount         954 non-null    float64\n",
      " 9   Loan_Amount_Term   961 non-null    float64\n",
      " 10  Credit_History     902 non-null    float64\n",
      " 11  Property_Area      981 non-null    object \n",
      " 12  Loan_Status        981 non-null    object \n",
      "dtypes: float64(4), int64(1), object(8)\n",
      "memory usage: 99.8+ KB\n"
     ]
    }
   ],
   "source": [
    "loan.info()"
   ]
  },
  {
   "cell_type": "code",
   "execution_count": 5,
   "id": "5dddafd1",
   "metadata": {},
   "outputs": [],
   "source": [
    "loan = loan.dropna()"
   ]
  },
  {
   "cell_type": "code",
   "execution_count": 6,
   "id": "f1a77a58",
   "metadata": {},
   "outputs": [
    {
     "name": "stdout",
     "output_type": "stream",
     "text": [
      "<class 'pandas.core.frame.DataFrame'>\n",
      "Int64Index: 769 entries, 1 to 980\n",
      "Data columns (total 13 columns):\n",
      " #   Column             Non-Null Count  Dtype  \n",
      "---  ------             --------------  -----  \n",
      " 0   Loan_ID            769 non-null    object \n",
      " 1   Gender             769 non-null    object \n",
      " 2   Married            769 non-null    object \n",
      " 3   Dependents         769 non-null    object \n",
      " 4   Education          769 non-null    object \n",
      " 5   Self_Employed      769 non-null    object \n",
      " 6   ApplicantIncome    769 non-null    int64  \n",
      " 7   CoapplicantIncome  769 non-null    float64\n",
      " 8   LoanAmount         769 non-null    float64\n",
      " 9   Loan_Amount_Term   769 non-null    float64\n",
      " 10  Credit_History     769 non-null    float64\n",
      " 11  Property_Area      769 non-null    object \n",
      " 12  Loan_Status        769 non-null    object \n",
      "dtypes: float64(4), int64(1), object(8)\n",
      "memory usage: 84.1+ KB\n"
     ]
    }
   ],
   "source": [
    "loan.info()"
   ]
  },
  {
   "cell_type": "markdown",
   "id": "26614330",
   "metadata": {},
   "source": [
    "### Feature Engineering"
   ]
  },
  {
   "cell_type": "code",
   "execution_count": 7,
   "id": "c279f759",
   "metadata": {},
   "outputs": [],
   "source": [
    "loan = loan.replace(to_replace='3+', value=4)"
   ]
  },
  {
   "cell_type": "code",
   "execution_count": 8,
   "id": "41835d2c",
   "metadata": {},
   "outputs": [],
   "source": [
    "loan_df = loan.drop(columns=['Loan_ID'])"
   ]
  },
  {
   "cell_type": "code",
   "execution_count": 9,
   "id": "841f72cd",
   "metadata": {},
   "outputs": [],
   "source": [
    "categorical_columns = ['Gender', 'Married', 'Dependents', 'Education', 'Self_Employed', 'Property_Area','Credit_History','Loan_Amount_Term']\n",
    "numerical_columns = ['ApplicantIncome', 'CoapplicantIncome', 'LoanAmount']"
   ]
  },
  {
   "cell_type": "code",
   "execution_count": 10,
   "id": "acfebf36",
   "metadata": {},
   "outputs": [
    {
     "data": {
      "image/png": "[encoded data removed]",
      "text/plain": [
       "<Figure size 864x1080 with 8 Axes>"
      ]
     },
     "metadata": {
      "needs_background": "light"
     },
     "output_type": "display_data"
    }
   ],
   "source": [
    "fig,axes = plt.subplots(4,2,figsize=(12,15))\n",
    "for idx,cat_col in enumerate(categorical_columns):\n",
    "    row,col = idx//2,idx%2\n",
    "    sns.countplot(x=cat_col,data=loan_df,hue='Loan_Status',ax=axes[row,col])\n",
    "\n",
    "\n",
    "plt.subplots_adjust(hspace=1)\n"
   ]
  },
  {
   "cell_type": "code",
   "execution_count": 11,
   "id": "84dc7cf2",
   "metadata": {},
   "outputs": [
    {
     "name": "stdout",
     "output_type": "stream",
     "text": [
      "       ApplicantIncome  CoapplicantIncome  LoanAmount\n",
      "count       769.000000         769.000000  769.000000\n",
      "mean       5091.061118        1561.239168  141.750325\n",
      "std        5363.714294        2528.694435   73.442988\n",
      "min           0.000000           0.000000    9.000000\n",
      "25%        2895.000000           0.000000  100.000000\n",
      "50%        3850.000000        1032.000000  128.000000\n",
      "75%        5532.000000        2333.000000  163.000000\n",
      "max       81000.000000       33837.000000  600.000000\n"
     ]
    },
    {
     "data": {
      "image/png": "[encoded data removed]",
      "text/plain": [
       "<Figure size 1224x360 with 3 Axes>"
      ]
     },
     "metadata": {
      "needs_background": "light"
     },
     "output_type": "display_data"
    }
   ],
   "source": [
    "fig,axes = plt.subplots(1,3,figsize=(17,5))\n",
    "for idx,cat_col in enumerate(numerical_columns):\n",
    "    sns.boxplot(y=cat_col,data=loan_df,x='Loan_Status',ax=axes[idx])\n",
    "\n",
    "print(loan_df[numerical_columns].describe())\n",
    "plt.subplots_adjust(hspace=1)"
   ]
  },
  {
   "cell_type": "code",
   "execution_count": 12,
   "id": "c55bf57c",
   "metadata": {},
   "outputs": [
    {
     "name": "stderr",
     "output_type": "stream",
     "text": [
      "C:\\Users\\pccom\\anaconda3\\lib\\site-packages\\seaborn\\distributions.py:2619: FutureWarning: `distplot` is a deprecated function and will be removed in a future version. Please adapt your code to use either `displot` (a figure-level function with similar flexibility) or `histplot` (an axes-level function for histograms).\n",
      "  warnings.warn(msg, FutureWarning)\n"
     ]
    },
    {
     "data": {
      "text/plain": [
       "<AxesSubplot:>"
      ]
     },
     "execution_count": 12,
     "metadata": {},
     "output_type": "execute_result"
    },
    {
     "data": {
      "image/png": "[encoded data removed]",
      "text/plain": [
       "<Figure size 1152x360 with 2 Axes>"
      ]
     },
     "metadata": {
      "needs_background": "light"
     },
     "output_type": "display_data"
    }
   ],
   "source": [
    "# Visualization of ApplicantIncome Variable (Numerical)\n",
    "\n",
    "plt.figure(figsize = (20,10))\n",
    "\n",
    "plt.subplot(121) \n",
    "sns.distplot(loan_df['ApplicantIncome'],color=\"m\", ) \n",
    "\n",
    "plt.subplot(122) \n",
    "loan_df['ApplicantIncome'].plot.box(figsize=(16,5)) "
   ]
  },
  {
   "cell_type": "code",
   "execution_count": 13,
   "id": "e271f2a0",
   "metadata": {},
   "outputs": [
    {
     "name": "stderr",
     "output_type": "stream",
     "text": [
      "C:\\Users\\pccom\\anaconda3\\lib\\site-packages\\seaborn\\distributions.py:2619: FutureWarning: `distplot` is a deprecated function and will be removed in a future version. Please adapt your code to use either `displot` (a figure-level function with similar flexibility) or `histplot` (an axes-level function for histograms).\n",
      "  warnings.warn(msg, FutureWarning)\n"
     ]
    },
    {
     "data": {
      "text/plain": [
       "<AxesSubplot:>"
      ]
     },
     "execution_count": 13,
     "metadata": {},
     "output_type": "execute_result"
    },
    {
     "data": {
      "image/png": "[encoded data removed]",
      "text/plain": [
       "<Figure size 1152x360 with 2 Axes>"
      ]
     },
     "metadata": {
      "needs_background": "light"
     },
     "output_type": "display_data"
    }
   ],
   "source": [
    "# Visualization of CoapplicantIncome Variable (Numerical)\n",
    "\n",
    "plt.figure(figsize = (20,10))\n",
    "\n",
    "plt.subplot(121) \n",
    "sns.distplot(loan_df['CoapplicantIncome'],color=\"r\", ) \n",
    "\n",
    "plt.subplot(122) \n",
    "loan_df['CoapplicantIncome'].plot.box(figsize=(16,5)) "
   ]
  },
  {
   "cell_type": "code",
   "execution_count": 14,
   "id": "5f3ae731",
   "metadata": {},
   "outputs": [
    {
     "name": "stderr",
     "output_type": "stream",
     "text": [
      "C:\\Users\\pccom\\anaconda3\\lib\\site-packages\\seaborn\\distributions.py:2619: FutureWarning: `distplot` is a deprecated function and will be removed in a future version. Please adapt your code to use either `displot` (a figure-level function with similar flexibility) or `histplot` (an axes-level function for histograms).\n",
      "  warnings.warn(msg, FutureWarning)\n"
     ]
    },
    {
     "data": {
      "text/plain": [
       "<AxesSubplot:>"
      ]
     },
     "execution_count": 14,
     "metadata": {},
     "output_type": "execute_result"
    },
    {
     "data": {
      "image/png": "[encoded data removed]",
      "text/plain": [
       "<Figure size 1152x360 with 2 Axes>"
      ]
     },
     "metadata": {
      "needs_background": "light"
     },
     "output_type": "display_data"
    }
   ],
   "source": [
    "plt.figure(figsize = (20,10))\n",
    "\n",
    "plt.subplot(121) \n",
    "sns.distplot(loan_df['LoanAmount'],color=\"b\", ) \n",
    "\n",
    "plt.subplot(122) \n",
    "loan_df['LoanAmount'].plot.box(figsize=(16,5)) "
   ]
  },
  {
   "cell_type": "code",
   "execution_count": 15,
   "id": "b918f6f0",
   "metadata": {},
   "outputs": [],
   "source": [
    "loan['LoanAmount_log'] = np.log(loan['LoanAmount']) \n"
   ]
  },
  {
   "cell_type": "code",
   "execution_count": 16,
   "id": "b315bb8a",
   "metadata": {},
   "outputs": [
    {
     "data": {
      "image/png": "[encoded data removed]",
      "text/plain": [
       "<Figure size 432x288 with 1 Axes>"
      ]
     },
     "metadata": {
      "needs_background": "light"
     },
     "output_type": "display_data"
    }
   ],
   "source": [
    "# Visualization of ApplicantIncome vs Loan_Status\n",
    "\n",
    "bins=[0,2500,4000,6000,81000] \n",
    "\n",
    "group=['Low','Average','High', 'Very high'] \n",
    "\n",
    "loan_df['Income_bin']=pd.cut(loan_df['ApplicantIncome'],bins,labels=group)\n",
    "\n",
    "Income_bin=pd.crosstab(loan_df['Income_bin'],loan_df['Loan_Status']) \n",
    "\n",
    "Income_bin.div(Income_bin.sum(1).astype(float), axis=0).plot(kind=\"bar\", stacked=True)\n",
    "\n",
    "plt.xlabel('ApplicantIncome') \n",
    "\n",
    "P = plt.ylabel('Percentage')\n"
   ]
  },
  {
   "cell_type": "code",
   "execution_count": 17,
   "id": "457fd26d",
   "metadata": {},
   "outputs": [
    {
     "data": {
      "image/png": "[encoded data removed]",
      "text/plain": [
       "<Figure size 432x288 with 1 Axes>"
      ]
     },
     "metadata": {
      "needs_background": "light"
     },
     "output_type": "display_data"
    }
   ],
   "source": [
    "# Visualization of CoapplicantIncome vs Loan_Status\n",
    "\n",
    "bins=[0,1000,3000,42000] \n",
    "\n",
    "group=['Low','Average','High'] \n",
    "\n",
    "loan_df['Coapplicant_Income_bin']=pd.cut(loan_df['CoapplicantIncome'],bins,labels=group)\n",
    "\n",
    "Coapplicant_Income_bin=pd.crosstab(loan_df['Coapplicant_Income_bin'],loan_df['Loan_Status']) \n",
    "\n",
    "Coapplicant_Income_bin.div(Coapplicant_Income_bin.sum(1).astype(float), axis=0).plot(kind=\"bar\", stacked=True) \n",
    "\n",
    "plt.xlabel('CoapplicantIncome') \n",
    "\n",
    "P = plt.ylabel('Percentage')"
   ]
  },
  {
   "cell_type": "code",
   "execution_count": 18,
   "id": "1e22252c",
   "metadata": {},
   "outputs": [
    {
     "data": {
      "text/plain": [
       "Text(0.5, 0, 'Total_Income')"
      ]
     },
     "execution_count": 18,
     "metadata": {},
     "output_type": "execute_result"
    },
    {
     "data": {
      "image/png": "[encoded data removed]",
      "text/plain": [
       "<Figure size 432x288 with 1 Axes>"
      ]
     },
     "metadata": {
      "needs_background": "light"
     },
     "output_type": "display_data"
    }
   ],
   "source": [
    "# Visualization of Total_Income vs Loan_Status\n",
    "\n",
    "loan_df['Total_Income']=loan_df['ApplicantIncome']+loan_df['CoapplicantIncome']\n",
    "\n",
    "bins=[0,2500,4000,6000,81000] \n",
    "\n",
    "group=['Low','Average','High', 'Very high'] \n",
    "\n",
    "loan_df['Total_Income_bin']=pd.cut(loan_df['Total_Income'],bins,labels=group)\n",
    "\n",
    "Total_Income_bin=pd.crosstab(loan_df['Total_Income_bin'],loan_df['Loan_Status']) \n",
    "\n",
    "Total_Income_bin.div(Total_Income_bin.sum(1).astype(float), axis=0).plot(kind=\"bar\", stacked=True) \n",
    "\n",
    "plt.xlabel('Total_Income') "
   ]
  },
  {
   "cell_type": "code",
   "execution_count": 19,
   "id": "fbe1f9fe",
   "metadata": {},
   "outputs": [],
   "source": [
    "x = loan.drop(columns=['Loan_ID','Loan_Status','Gender','Married'],axis=1)\n",
    "y = loan['Loan_Status']"
   ]
  },
  {
   "cell_type": "code",
   "execution_count": 20,
   "id": "264ebb5e",
   "metadata": {},
   "outputs": [],
   "source": [
    "from sklearn.model_selection import train_test_split\n",
    "x_train, x_test, y_train, y_test = train_test_split(x,y,test_size=0.2,random_state=0)"
   ]
  },
  {
   "cell_type": "code",
   "execution_count": 21,
   "id": "520d3159",
   "metadata": {},
   "outputs": [
    {
     "name": "stdout",
     "output_type": "stream",
     "text": [
      "<class 'pandas.core.frame.DataFrame'>\n",
      "Int64Index: 615 entries, 615 to 867\n",
      "Data columns (total 10 columns):\n",
      " #   Column             Non-Null Count  Dtype  \n",
      "---  ------             --------------  -----  \n",
      " 0   Dependents         615 non-null    object \n",
      " 1   Education          615 non-null    object \n",
      " 2   Self_Employed      615 non-null    object \n",
      " 3   ApplicantIncome    615 non-null    int64  \n",
      " 4   CoapplicantIncome  615 non-null    float64\n",
      " 5   LoanAmount         615 non-null    float64\n",
      " 6   Loan_Amount_Term   615 non-null    float64\n",
      " 7   Credit_History     615 non-null    float64\n",
      " 8   Property_Area      615 non-null    object \n",
      " 9   LoanAmount_log     615 non-null    float64\n",
      "dtypes: float64(5), int64(1), object(4)\n",
      "memory usage: 52.9+ KB\n"
     ]
    }
   ],
   "source": [
    "x_train.info()"
   ]
  },
  {
   "cell_type": "code",
   "execution_count": 22,
   "id": "b9e1f520",
   "metadata": {},
   "outputs": [],
   "source": [
    "from sklearn.preprocessing import LabelEncoder\n",
    "le = LabelEncoder()\n",
    "y_train = le.fit_transform(y_train)\n",
    "y_test = le.transform(y_test)"
   ]
  },
  {
   "cell_type": "code",
   "execution_count": 23,
   "id": "a0628dee",
   "metadata": {},
   "outputs": [],
   "source": [
    "from sklearn.preprocessing import OrdinalEncoder\n",
    "from sklearn.preprocessing import OneHotEncoder\n",
    "from sklearn.compose import ColumnTransformer\n",
    "transformer = ColumnTransformer(transformers=[('Education',OrdinalEncoder(categories=[['Not Graduate','Graduate']]),['Education']),\n",
    "                                ('Self_Employed',OrdinalEncoder(categories=[['Yes','No']]),['Self_Employed']),\n",
    "                                ('Property_Area',OrdinalEncoder(categories=[['Rural','Semiurban','Urban']]),['Property_Area']),\n",
    "                                ],remainder='passthrough')\n",
    "x_train_trans = transformer.fit_transform(x_train)\n",
    "x_test_trans= transformer.transform(x_test)\n",
    "    "
   ]
  },
  {
   "cell_type": "code",
   "execution_count": 24,
   "id": "e8fd408d",
   "metadata": {},
   "outputs": [],
   "source": [
    "x_train_trans = pd.DataFrame(x_train_trans, columns=x_train.columns)\n",
    "x_test_trans = pd.DataFrame(x_test_trans, columns=x_test.columns)"
   ]
  },
  {
   "cell_type": "code",
   "execution_count": 25,
   "id": "16377b31",
   "metadata": {},
   "outputs": [
    {
     "name": "stdout",
     "output_type": "stream",
     "text": [
      "<class 'pandas.core.frame.DataFrame'>\n",
      "RangeIndex: 615 entries, 0 to 614\n",
      "Data columns (total 10 columns):\n",
      " #   Column             Non-Null Count  Dtype \n",
      "---  ------             --------------  ----- \n",
      " 0   Dependents         615 non-null    object\n",
      " 1   Education          615 non-null    object\n",
      " 2   Self_Employed      615 non-null    object\n",
      " 3   ApplicantIncome    615 non-null    object\n",
      " 4   CoapplicantIncome  615 non-null    object\n",
      " 5   LoanAmount         615 non-null    object\n",
      " 6   Loan_Amount_Term   615 non-null    object\n",
      " 7   Credit_History     615 non-null    object\n",
      " 8   Property_Area      615 non-null    object\n",
      " 9   LoanAmount_log     615 non-null    object\n",
      "dtypes: object(10)\n",
      "memory usage: 48.2+ KB\n"
     ]
    }
   ],
   "source": [
    "x_train_trans.info()"
   ]
  },
  {
   "cell_type": "code",
   "execution_count": 26,
   "id": "278f09b4",
   "metadata": {},
   "outputs": [],
   "source": [
    "x_train_d = x_train_trans.drop(['ApplicantIncome','CoapplicantIncome','LoanAmount','Loan_Amount_Term'], axis=1)\n",
    "x_test_d= x_test_trans.drop(['ApplicantIncome','CoapplicantIncome','LoanAmount','Loan_Amount_Term'], axis=1)"
   ]
  },
  {
   "cell_type": "code",
   "execution_count": 27,
   "id": "61b94417",
   "metadata": {},
   "outputs": [
    {
     "name": "stdout",
     "output_type": "stream",
     "text": [
      "<class 'pandas.core.frame.DataFrame'>\n",
      "RangeIndex: 615 entries, 0 to 614\n",
      "Data columns (total 6 columns):\n",
      " #   Column          Non-Null Count  Dtype \n",
      "---  ------          --------------  ----- \n",
      " 0   Dependents      615 non-null    object\n",
      " 1   Education       615 non-null    object\n",
      " 2   Self_Employed   615 non-null    object\n",
      " 3   Credit_History  615 non-null    object\n",
      " 4   Property_Area   615 non-null    object\n",
      " 5   LoanAmount_log  615 non-null    object\n",
      "dtypes: object(6)\n",
      "memory usage: 29.0+ KB\n"
     ]
    }
   ],
   "source": [
    "x_train_d.info()"
   ]
  },
  {
   "cell_type": "code",
   "execution_count": 28,
   "id": "9bbddb1f",
   "metadata": {},
   "outputs": [],
   "source": [
    "from sklearn.preprocessing import StandardScaler\n",
    "ss = StandardScaler()\n",
    "x_train_scaled = ss.fit_transform(x_train_trans[['ApplicantIncome','CoapplicantIncome','LoanAmount','Loan_Amount_Term']])\n",
    "x_test_scaled = ss.transform(x_test_trans[['ApplicantIncome','CoapplicantIncome','LoanAmount','Loan_Amount_Term']])\n"
   ]
  },
  {
   "cell_type": "code",
   "execution_count": 29,
   "id": "9b24d1d5",
   "metadata": {},
   "outputs": [],
   "source": [
    "x_train_scaled = pd.DataFrame(x_train_scaled,columns=['ApplicantIncome','CoapplicantIncome','LoanAmount','Loan_Amount_Term'])\n",
    "x_test_scaled = pd.DataFrame(x_test_scaled,columns=['ApplicantIncome','CoapplicantIncome','LoanAmount','Loan_Amount_Term'])\n"
   ]
  },
  {
   "cell_type": "code",
   "execution_count": 30,
   "id": "b9b2a960",
   "metadata": {},
   "outputs": [
    {
     "name": "stdout",
     "output_type": "stream",
     "text": [
      "<class 'pandas.core.frame.DataFrame'>\n",
      "RangeIndex: 615 entries, 0 to 614\n",
      "Data columns (total 4 columns):\n",
      " #   Column             Non-Null Count  Dtype  \n",
      "---  ------             --------------  -----  \n",
      " 0   ApplicantIncome    615 non-null    float64\n",
      " 1   CoapplicantIncome  615 non-null    float64\n",
      " 2   LoanAmount         615 non-null    float64\n",
      " 3   Loan_Amount_Term   615 non-null    float64\n",
      "dtypes: float64(4)\n",
      "memory usage: 19.3 KB\n"
     ]
    }
   ],
   "source": [
    "x_train_scaled.info()"
   ]
  },
  {
   "cell_type": "code",
   "execution_count": 31,
   "id": "9d218d9f",
   "metadata": {},
   "outputs": [],
   "source": [
    "x_train_new = pd.concat([x_train_d,x_train_scaled],axis=1)\n",
    "x_test_new = pd.concat([x_test_d,x_test_scaled],axis=1)"
   ]
  },
  {
   "cell_type": "code",
   "execution_count": 32,
   "id": "fadd34b8",
   "metadata": {},
   "outputs": [
    {
     "data": {
      "text/html": [
       "<div>\n",
       "<style scoped>\n",
       "    .dataframe tbody tr th:only-of-type {\n",
       "        vertical-align: middle;\n",
       "    }\n",
       "\n",
       "    .dataframe tbody tr th {\n",
       "        vertical-align: top;\n",
       "    }\n",
       "\n",
       "    .dataframe thead th {\n",
       "        text-align: right;\n",
       "    }\n",
       "</style>\n",
       "<table border=\"1\" class=\"dataframe\">\n",
       "  <thead>\n",
       "    <tr style=\"text-align: right;\">\n",
       "      <th></th>\n",
       "      <th>Dependents</th>\n",
       "      <th>Education</th>\n",
       "      <th>Self_Employed</th>\n",
       "      <th>Credit_History</th>\n",
       "      <th>Property_Area</th>\n",
       "      <th>LoanAmount_log</th>\n",
       "      <th>ApplicantIncome</th>\n",
       "      <th>CoapplicantIncome</th>\n",
       "      <th>LoanAmount</th>\n",
       "      <th>Loan_Amount_Term</th>\n",
       "    </tr>\n",
       "  </thead>\n",
       "  <tbody>\n",
       "    <tr>\n",
       "      <th>0</th>\n",
       "      <td>1.0</td>\n",
       "      <td>1.0</td>\n",
       "      <td>2.0</td>\n",
       "      <td>360.0</td>\n",
       "      <td>1.0</td>\n",
       "      <td>4.836282</td>\n",
       "      <td>0.100666</td>\n",
       "      <td>-0.488048</td>\n",
       "      <td>-0.024195</td>\n",
       "      <td>-0.201428</td>\n",
       "    </tr>\n",
       "    <tr>\n",
       "      <th>1</th>\n",
       "      <td>0.0</td>\n",
       "      <td>1.0</td>\n",
       "      <td>0.0</td>\n",
       "      <td>360.0</td>\n",
       "      <td>1.0</td>\n",
       "      <td>4.727388</td>\n",
       "      <td>0.904683</td>\n",
       "      <td>-0.694143</td>\n",
       "      <td>-0.587992</td>\n",
       "      <td>-0.379276</td>\n",
       "    </tr>\n",
       "    <tr>\n",
       "      <th>2</th>\n",
       "      <td>1.0</td>\n",
       "      <td>1.0</td>\n",
       "      <td>1.0</td>\n",
       "      <td>360.0</td>\n",
       "      <td>1.0</td>\n",
       "      <td>4.787492</td>\n",
       "      <td>0.904683</td>\n",
       "      <td>-0.321875</td>\n",
       "      <td>-0.587992</td>\n",
       "      <td>-0.283512</td>\n",
       "    </tr>\n",
       "    <tr>\n",
       "      <th>3</th>\n",
       "      <td>0.0</td>\n",
       "      <td>1.0</td>\n",
       "      <td>2.0</td>\n",
       "      <td>360.0</td>\n",
       "      <td>1.0</td>\n",
       "      <td>4.905275</td>\n",
       "      <td>0.100666</td>\n",
       "      <td>-0.378130</td>\n",
       "      <td>-0.180931</td>\n",
       "      <td>-0.078302</td>\n",
       "    </tr>\n",
       "    <tr>\n",
       "      <th>4</th>\n",
       "      <td>1.0</td>\n",
       "      <td>1.0</td>\n",
       "      <td>1.0</td>\n",
       "      <td>360.0</td>\n",
       "      <td>1.0</td>\n",
       "      <td>4.89784</td>\n",
       "      <td>-0.703352</td>\n",
       "      <td>-0.751435</td>\n",
       "      <td>0.242293</td>\n",
       "      <td>-0.091983</td>\n",
       "    </tr>\n",
       "    <tr>\n",
       "      <th>...</th>\n",
       "      <td>...</td>\n",
       "      <td>...</td>\n",
       "      <td>...</td>\n",
       "      <td>...</td>\n",
       "      <td>...</td>\n",
       "      <td>...</td>\n",
       "      <td>...</td>\n",
       "      <td>...</td>\n",
       "      <td>...</td>\n",
       "      <td>...</td>\n",
       "    </tr>\n",
       "    <tr>\n",
       "      <th>610</th>\n",
       "      <td>1.0</td>\n",
       "      <td>1.0</td>\n",
       "      <td>1.0</td>\n",
       "      <td>360.0</td>\n",
       "      <td>1.0</td>\n",
       "      <td>5.023881</td>\n",
       "      <td>-0.703352</td>\n",
       "      <td>-0.248510</td>\n",
       "      <td>0.414439</td>\n",
       "      <td>0.154269</td>\n",
       "    </tr>\n",
       "    <tr>\n",
       "      <th>611</th>\n",
       "      <td>0.0</td>\n",
       "      <td>1.0</td>\n",
       "      <td>2.0</td>\n",
       "      <td>180.0</td>\n",
       "      <td>1.0</td>\n",
       "      <td>4.919981</td>\n",
       "      <td>0.100666</td>\n",
       "      <td>0.427586</td>\n",
       "      <td>-0.587992</td>\n",
       "      <td>-0.050941</td>\n",
       "    </tr>\n",
       "    <tr>\n",
       "      <th>612</th>\n",
       "      <td>1.0</td>\n",
       "      <td>1.0</td>\n",
       "      <td>1.0</td>\n",
       "      <td>360.0</td>\n",
       "      <td>1.0</td>\n",
       "      <td>5.459586</td>\n",
       "      <td>0.904683</td>\n",
       "      <td>1.090980</td>\n",
       "      <td>-0.587992</td>\n",
       "      <td>1.289762</td>\n",
       "    </tr>\n",
       "    <tr>\n",
       "      <th>613</th>\n",
       "      <td>1.0</td>\n",
       "      <td>1.0</td>\n",
       "      <td>1.0</td>\n",
       "      <td>360.0</td>\n",
       "      <td>1.0</td>\n",
       "      <td>4.941642</td>\n",
       "      <td>-0.703352</td>\n",
       "      <td>-0.378130</td>\n",
       "      <td>0.633568</td>\n",
       "      <td>-0.009899</td>\n",
       "    </tr>\n",
       "    <tr>\n",
       "      <th>614</th>\n",
       "      <td>1.0</td>\n",
       "      <td>1.0</td>\n",
       "      <td>2.0</td>\n",
       "      <td>360.0</td>\n",
       "      <td>1.0</td>\n",
       "      <td>4.787492</td>\n",
       "      <td>0.904683</td>\n",
       "      <td>-0.245918</td>\n",
       "      <td>-0.202731</td>\n",
       "      <td>-0.283512</td>\n",
       "    </tr>\n",
       "  </tbody>\n",
       "</table>\n",
       "<p>615 rows × 10 columns</p>\n",
       "</div>"
      ],
      "text/plain": [
       "    Dependents Education Self_Employed Credit_History Property_Area  \\\n",
       "0          1.0       1.0           2.0          360.0           1.0   \n",
       "1          0.0       1.0           0.0          360.0           1.0   \n",
       "2          1.0       1.0           1.0          360.0           1.0   \n",
       "3          0.0       1.0           2.0          360.0           1.0   \n",
       "4          1.0       1.0           1.0          360.0           1.0   \n",
       "..         ...       ...           ...            ...           ...   \n",
       "610        1.0       1.0           1.0          360.0           1.0   \n",
       "611        0.0       1.0           2.0          180.0           1.0   \n",
       "612        1.0       1.0           1.0          360.0           1.0   \n",
       "613        1.0       1.0           1.0          360.0           1.0   \n",
       "614        1.0       1.0           2.0          360.0           1.0   \n",
       "\n",
       "    LoanAmount_log  ApplicantIncome  CoapplicantIncome  LoanAmount  \\\n",
       "0         4.836282         0.100666          -0.488048   -0.024195   \n",
       "1         4.727388         0.904683          -0.694143   -0.587992   \n",
       "2         4.787492         0.904683          -0.321875   -0.587992   \n",
       "3         4.905275         0.100666          -0.378130   -0.180931   \n",
       "4          4.89784        -0.703352          -0.751435    0.242293   \n",
       "..             ...              ...                ...         ...   \n",
       "610       5.023881        -0.703352          -0.248510    0.414439   \n",
       "611       4.919981         0.100666           0.427586   -0.587992   \n",
       "612       5.459586         0.904683           1.090980   -0.587992   \n",
       "613       4.941642        -0.703352          -0.378130    0.633568   \n",
       "614       4.787492         0.904683          -0.245918   -0.202731   \n",
       "\n",
       "     Loan_Amount_Term  \n",
       "0           -0.201428  \n",
       "1           -0.379276  \n",
       "2           -0.283512  \n",
       "3           -0.078302  \n",
       "4           -0.091983  \n",
       "..                ...  \n",
       "610          0.154269  \n",
       "611         -0.050941  \n",
       "612          1.289762  \n",
       "613         -0.009899  \n",
       "614         -0.283512  \n",
       "\n",
       "[615 rows x 10 columns]"
      ]
     },
     "execution_count": 32,
     "metadata": {},
     "output_type": "execute_result"
    }
   ],
   "source": [
    "x_train_new"
   ]
  },
  {
   "cell_type": "code",
   "execution_count": 33,
   "id": "80af3185",
   "metadata": {},
   "outputs": [],
   "source": [
    "from sklearn.preprocessing import RobustScaler\n",
    "rs = RobustScaler()\n",
    "x_train_new = rs.fit_transform(x_train_new)\n",
    "x_test_new = rs.transform(x_test_new)"
   ]
  },
  {
   "cell_type": "markdown",
   "id": "4b98d817",
   "metadata": {},
   "source": [
    "### Building a Model"
   ]
  },
  {
   "cell_type": "code",
   "execution_count": 34,
   "id": "b1738f28",
   "metadata": {},
   "outputs": [
    {
     "data": {
      "text/html": [
       "<style>#sk-container-id-1 {color: black;background-color: white;}#sk-container-id-1 pre{padding: 0;}#sk-container-id-1 div.sk-toggleable {background-color: white;}#sk-container-id-1 label.sk-toggleable__label {cursor: pointer;display: block;width: 100%;margin-bottom: 0;padding: 0.3em;box-sizing: border-box;text-align: center;}#sk-container-id-1 label.sk-toggleable__label-arrow:before {content: \"▸\";float: left;margin-right: 0.25em;color: #696969;}#sk-container-id-1 label.sk-toggleable__label-arrow:hover:before {color: black;}#sk-container-id-1 div.sk-estimator:hover label.sk-toggleable__label-arrow:before {color: black;}#sk-container-id-1 div.sk-toggleable__content {max-height: 0;max-width: 0;overflow: hidden;text-align: left;background-color: #f0f8ff;}#sk-container-id-1 div.sk-toggleable__content pre {margin: 0.2em;color: black;border-radius: 0.25em;background-color: #f0f8ff;}#sk-container-id-1 input.sk-toggleable__control:checked~div.sk-toggleable__content {max-height: 200px;max-width: 100%;overflow: auto;}#sk-container-id-1 input.sk-toggleable__control:checked~label.sk-toggleable__label-arrow:before {content: \"▾\";}#sk-container-id-1 div.sk-estimator input.sk-toggleable__control:checked~label.sk-toggleable__label {background-color: #d4ebff;}#sk-container-id-1 div.sk-label input.sk-toggleable__control:checked~label.sk-toggleable__label {background-color: #d4ebff;}#sk-container-id-1 input.sk-hidden--visually {border: 0;clip: rect(1px 1px 1px 1px);clip: rect(1px, 1px, 1px, 1px);height: 1px;margin: -1px;overflow: hidden;padding: 0;position: absolute;width: 1px;}#sk-container-id-1 div.sk-estimator {font-family: monospace;background-color: #f0f8ff;border: 1px dotted black;border-radius: 0.25em;box-sizing: border-box;margin-bottom: 0.5em;}#sk-container-id-1 div.sk-estimator:hover {background-color: #d4ebff;}#sk-container-id-1 div.sk-parallel-item::after {content: \"\";width: 100%;border-bottom: 1px solid gray;flex-grow: 1;}#sk-container-id-1 div.sk-label:hover label.sk-toggleable__label {background-color: #d4ebff;}#sk-container-id-1 div.sk-serial::before {content: \"\";position: absolute;border-left: 1px solid gray;box-sizing: border-box;top: 0;bottom: 0;left: 50%;z-index: 0;}#sk-container-id-1 div.sk-serial {display: flex;flex-direction: column;align-items: center;background-color: white;padding-right: 0.2em;padding-left: 0.2em;position: relative;}#sk-container-id-1 div.sk-item {position: relative;z-index: 1;}#sk-container-id-1 div.sk-parallel {display: flex;align-items: stretch;justify-content: center;background-color: white;position: relative;}#sk-container-id-1 div.sk-item::before, #sk-container-id-1 div.sk-parallel-item::before {content: \"\";position: absolute;border-left: 1px solid gray;box-sizing: border-box;top: 0;bottom: 0;left: 50%;z-index: -1;}#sk-container-id-1 div.sk-parallel-item {display: flex;flex-direction: column;z-index: 1;position: relative;background-color: white;}#sk-container-id-1 div.sk-parallel-item:first-child::after {align-self: flex-end;width: 50%;}#sk-container-id-1 div.sk-parallel-item:last-child::after {align-self: flex-start;width: 50%;}#sk-container-id-1 div.sk-parallel-item:only-child::after {width: 0;}#sk-container-id-1 div.sk-dashed-wrapped {border: 1px dashed gray;margin: 0 0.4em 0.5em 0.4em;box-sizing: border-box;padding-bottom: 0.4em;background-color: white;}#sk-container-id-1 div.sk-label label {font-family: monospace;font-weight: bold;display: inline-block;line-height: 1.2em;}#sk-container-id-1 div.sk-label-container {text-align: center;}#sk-container-id-1 div.sk-container {/* jupyter's `normalize.less` sets `[hidden] { display: none; }` but bootstrap.min.css set `[hidden] { display: none !important; }` so we also need the `!important` here to be able to override the default hidden behavior on the sphinx rendered scikit-learn.org. See: https://github.com/scikit-learn/scikit-learn/issues/21755 */display: inline-block !important;position: relative;}#sk-container-id-1 div.sk-text-repr-fallback {display: none;}</style><div id=\"sk-container-id-1\" class=\"sk-top-container\"><div class=\"sk-text-repr-fallback\"><pre>SVC(kernel=&#x27;linear&#x27;, probability=True, random_state=0)</pre><b>In a Jupyter environment, please rerun this cell to show the HTML representation or trust the notebook. <br />On GitHub, the HTML representation is unable to render, please try loading this page with nbviewer.org.</b></div><div class=\"sk-container\" hidden><div class=\"sk-item\"><div class=\"sk-estimator sk-toggleable\"><input class=\"sk-toggleable__control sk-hidden--visually\" id=\"sk-estimator-id-1\" type=\"checkbox\" checked><label for=\"sk-estimator-id-1\" class=\"sk-toggleable__label sk-toggleable__label-arrow\">SVC</label><div class=\"sk-toggleable__content\"><pre>SVC(kernel=&#x27;linear&#x27;, probability=True, random_state=0)</pre></div></div></div></div></div>"
      ],
      "text/plain": [
       "SVC(kernel='linear', probability=True, random_state=0)"
      ]
     },
     "execution_count": 34,
     "metadata": {},
     "output_type": "execute_result"
    }
   ],
   "source": [
    "from sklearn import svm\n",
    "classifier = svm.SVC(kernel = 'linear',random_state=0, probability = True)\n",
    "classifier.fit(x_train_new,y_train)\n"
   ]
  },
  {
   "cell_type": "code",
   "execution_count": 35,
   "id": "d2249296",
   "metadata": {},
   "outputs": [
    {
     "name": "stdout",
     "output_type": "stream",
     "text": [
      "0.8831168831168831\n",
      "[[ 30  13]\n",
      " [  5 106]]\n",
      "0.8907563025210085\n"
     ]
    }
   ],
   "source": [
    "from sklearn.metrics import accuracy_score, confusion_matrix, precision_score\n",
    "y_pred = classifier.predict(x_test_new)\n",
    "svm_accuracy = accuracy_score(y_test,y_pred)\n",
    "svm_confusionmatrix = confusion_matrix(y_test,y_pred)\n",
    "svm_precisionscore = precision_score(y_test,y_pred)\n",
    "print(svm_accuracy)\n",
    "print(svm_confusionmatrix)\n",
    "print(svm_precisionscore)"
   ]
  },
  {
   "cell_type": "code",
   "execution_count": 36,
   "id": "af2c076d",
   "metadata": {},
   "outputs": [
    {
     "data": {
      "text/plain": [
       "0.863590692755156"
      ]
     },
     "execution_count": 36,
     "metadata": {},
     "output_type": "execute_result"
    }
   ],
   "source": [
    "from sklearn.model_selection import cross_val_score\n",
    "scores = cross_val_score(classifier, x_train_new, y_train, cv=10, scoring='accuracy').mean()\n",
    "scores"
   ]
  },
  {
   "cell_type": "code",
   "execution_count": 37,
   "id": "1e2c7b2c",
   "metadata": {},
   "outputs": [
    {
     "name": "stdout",
     "output_type": "stream",
     "text": [
      "0.8441558441558441\n",
      "[[ 30  13]\n",
      " [ 11 100]]\n",
      "0.8849557522123894\n"
     ]
    }
   ],
   "source": [
    "from sklearn.naive_bayes import GaussianNB,MultinomialNB,BernoulliNB\n",
    "nb1 = GaussianNB()\n",
    "nb2 = BernoulliNB()\n",
    "nb1.fit(x_train_new,y_train)\n",
    "y_pred1 = nb1.predict(x_test_new)\n",
    "nb1_accuracy = accuracy_score(y_test,y_pred1)\n",
    "nb1_confusionmatrix = confusion_matrix(y_test,y_pred1)\n",
    "nb1_precisionscore = precision_score(y_test,y_pred1)\n",
    "print(nb1_accuracy)\n",
    "print(nb1_confusionmatrix)\n",
    "print(nb1_precisionscore)"
   ]
  },
  {
   "cell_type": "code",
   "execution_count": 38,
   "id": "b986affa",
   "metadata": {},
   "outputs": [
    {
     "name": "stdout",
     "output_type": "stream",
     "text": [
      "0.8441558441558441\n",
      "[[ 30  13]\n",
      " [ 11 100]]\n",
      "0.8849557522123894\n"
     ]
    }
   ],
   "source": [
    "nb2.fit(x_train_new,y_train)\n",
    "y_pred2 = nb2.predict(x_test_new)\n",
    "nb2_accuracy = accuracy_score(y_test,y_pred2)\n",
    "nb2_confusionmatrix = confusion_matrix(y_test,y_pred2)\n",
    "nb2_precisionscore = precision_score(y_test,y_pred2)\n",
    "print(nb1_accuracy)\n",
    "print(nb1_confusionmatrix)\n",
    "print(nb1_precisionscore)"
   ]
  },
  {
   "cell_type": "code",
   "execution_count": 39,
   "id": "8597abf9",
   "metadata": {},
   "outputs": [
    {
     "data": {
      "text/html": [
       "<style>#sk-container-id-2 {color: black;background-color: white;}#sk-container-id-2 pre{padding: 0;}#sk-container-id-2 div.sk-toggleable {background-color: white;}#sk-container-id-2 label.sk-toggleable__label {cursor: pointer;display: block;width: 100%;margin-bottom: 0;padding: 0.3em;box-sizing: border-box;text-align: center;}#sk-container-id-2 label.sk-toggleable__label-arrow:before {content: \"▸\";float: left;margin-right: 0.25em;color: #696969;}#sk-container-id-2 label.sk-toggleable__label-arrow:hover:before {color: black;}#sk-container-id-2 div.sk-estimator:hover label.sk-toggleable__label-arrow:before {color: black;}#sk-container-id-2 div.sk-toggleable__content {max-height: 0;max-width: 0;overflow: hidden;text-align: left;background-color: #f0f8ff;}#sk-container-id-2 div.sk-toggleable__content pre {margin: 0.2em;color: black;border-radius: 0.25em;background-color: #f0f8ff;}#sk-container-id-2 input.sk-toggleable__control:checked~div.sk-toggleable__content {max-height: 200px;max-width: 100%;overflow: auto;}#sk-container-id-2 input.sk-toggleable__control:checked~label.sk-toggleable__label-arrow:before {content: \"▾\";}#sk-container-id-2 div.sk-estimator input.sk-toggleable__control:checked~label.sk-toggleable__label {background-color: #d4ebff;}#sk-container-id-2 div.sk-label input.sk-toggleable__control:checked~label.sk-toggleable__label {background-color: #d4ebff;}#sk-container-id-2 input.sk-hidden--visually {border: 0;clip: rect(1px 1px 1px 1px);clip: rect(1px, 1px, 1px, 1px);height: 1px;margin: -1px;overflow: hidden;padding: 0;position: absolute;width: 1px;}#sk-container-id-2 div.sk-estimator {font-family: monospace;background-color: #f0f8ff;border: 1px dotted black;border-radius: 0.25em;box-sizing: border-box;margin-bottom: 0.5em;}#sk-container-id-2 div.sk-estimator:hover {background-color: #d4ebff;}#sk-container-id-2 div.sk-parallel-item::after {content: \"\";width: 100%;border-bottom: 1px solid gray;flex-grow: 1;}#sk-container-id-2 div.sk-label:hover label.sk-toggleable__label {background-color: #d4ebff;}#sk-container-id-2 div.sk-serial::before {content: \"\";position: absolute;border-left: 1px solid gray;box-sizing: border-box;top: 0;bottom: 0;left: 50%;z-index: 0;}#sk-container-id-2 div.sk-serial {display: flex;flex-direction: column;align-items: center;background-color: white;padding-right: 0.2em;padding-left: 0.2em;position: relative;}#sk-container-id-2 div.sk-item {position: relative;z-index: 1;}#sk-container-id-2 div.sk-parallel {display: flex;align-items: stretch;justify-content: center;background-color: white;position: relative;}#sk-container-id-2 div.sk-item::before, #sk-container-id-2 div.sk-parallel-item::before {content: \"\";position: absolute;border-left: 1px solid gray;box-sizing: border-box;top: 0;bottom: 0;left: 50%;z-index: -1;}#sk-container-id-2 div.sk-parallel-item {display: flex;flex-direction: column;z-index: 1;position: relative;background-color: white;}#sk-container-id-2 div.sk-parallel-item:first-child::after {align-self: flex-end;width: 50%;}#sk-container-id-2 div.sk-parallel-item:last-child::after {align-self: flex-start;width: 50%;}#sk-container-id-2 div.sk-parallel-item:only-child::after {width: 0;}#sk-container-id-2 div.sk-dashed-wrapped {border: 1px dashed gray;margin: 0 0.4em 0.5em 0.4em;box-sizing: border-box;padding-bottom: 0.4em;background-color: white;}#sk-container-id-2 div.sk-label label {font-family: monospace;font-weight: bold;display: inline-block;line-height: 1.2em;}#sk-container-id-2 div.sk-label-container {text-align: center;}#sk-container-id-2 div.sk-container {/* jupyter's `normalize.less` sets `[hidden] { display: none; }` but bootstrap.min.css set `[hidden] { display: none !important; }` so we also need the `!important` here to be able to override the default hidden behavior on the sphinx rendered scikit-learn.org. See: https://github.com/scikit-learn/scikit-learn/issues/21755 */display: inline-block !important;position: relative;}#sk-container-id-2 div.sk-text-repr-fallback {display: none;}</style><div id=\"sk-container-id-2\" class=\"sk-top-container\"><div class=\"sk-text-repr-fallback\"><pre>VotingClassifier(estimators=[(&#x27;svm&#x27;, SVC(probability=True)),\n",
       "                             (&#x27;gnb&#x27;, GaussianNB()), (&#x27;bnb&#x27;, BernoulliNB())])</pre><b>In a Jupyter environment, please rerun this cell to show the HTML representation or trust the notebook. <br />On GitHub, the HTML representation is unable to render, please try loading this page with nbviewer.org.</b></div><div class=\"sk-container\" hidden><div class=\"sk-item sk-dashed-wrapped\"><div class=\"sk-label-container\"><div class=\"sk-label sk-toggleable\"><input class=\"sk-toggleable__control sk-hidden--visually\" id=\"sk-estimator-id-2\" type=\"checkbox\" ><label for=\"sk-estimator-id-2\" class=\"sk-toggleable__label sk-toggleable__label-arrow\">VotingClassifier</label><div class=\"sk-toggleable__content\"><pre>VotingClassifier(estimators=[(&#x27;svm&#x27;, SVC(probability=True)),\n",
       "                             (&#x27;gnb&#x27;, GaussianNB()), (&#x27;bnb&#x27;, BernoulliNB())])</pre></div></div></div><div class=\"sk-parallel\"><div class=\"sk-parallel-item\"><div class=\"sk-item\"><div class=\"sk-label-container\"><div class=\"sk-label sk-toggleable\"><label>svm</label></div></div><div class=\"sk-serial\"><div class=\"sk-item\"><div class=\"sk-estimator sk-toggleable\"><input class=\"sk-toggleable__control sk-hidden--visually\" id=\"sk-estimator-id-3\" type=\"checkbox\" ><label for=\"sk-estimator-id-3\" class=\"sk-toggleable__label sk-toggleable__label-arrow\">SVC</label><div class=\"sk-toggleable__content\"><pre>SVC(probability=True)</pre></div></div></div></div></div></div><div class=\"sk-parallel-item\"><div class=\"sk-item\"><div class=\"sk-label-container\"><div class=\"sk-label sk-toggleable\"><label>gnb</label></div></div><div class=\"sk-serial\"><div class=\"sk-item\"><div class=\"sk-estimator sk-toggleable\"><input class=\"sk-toggleable__control sk-hidden--visually\" id=\"sk-estimator-id-4\" type=\"checkbox\" ><label for=\"sk-estimator-id-4\" class=\"sk-toggleable__label sk-toggleable__label-arrow\">GaussianNB</label><div class=\"sk-toggleable__content\"><pre>GaussianNB()</pre></div></div></div></div></div></div><div class=\"sk-parallel-item\"><div class=\"sk-item\"><div class=\"sk-label-container\"><div class=\"sk-label sk-toggleable\"><label>bnb</label></div></div><div class=\"sk-serial\"><div class=\"sk-item\"><div class=\"sk-estimator sk-toggleable\"><input class=\"sk-toggleable__control sk-hidden--visually\" id=\"sk-estimator-id-5\" type=\"checkbox\" ><label for=\"sk-estimator-id-5\" class=\"sk-toggleable__label sk-toggleable__label-arrow\">BernoulliNB</label><div class=\"sk-toggleable__content\"><pre>BernoulliNB()</pre></div></div></div></div></div></div></div></div></div></div>"
      ],
      "text/plain": [
       "VotingClassifier(estimators=[('svm', SVC(probability=True)),\n",
       "                             ('gnb', GaussianNB()), ('bnb', BernoulliNB())])"
      ]
     },
     "execution_count": 39,
     "metadata": {},
     "output_type": "execute_result"
    }
   ],
   "source": [
    "from sklearn.ensemble import VotingClassifier\n",
    "classifier1 = svm.SVC(probability = True)\n",
    "vcf = VotingClassifier(estimators=[('svm', classifier1), ('gnb', nb1), ('bnb', nb2)], voting='hard')\n",
    "vcf = vcf.fit(x_train_new, y_train)\n",
    "vcf"
   ]
  },
  {
   "cell_type": "code",
   "execution_count": 40,
   "id": "363a7b8a",
   "metadata": {},
   "outputs": [
    {
     "name": "stdout",
     "output_type": "stream",
     "text": [
      "0.7207792207792207\n",
      "[[  2  41]\n",
      " [  2 109]]\n",
      "0.7266666666666667\n"
     ]
    }
   ],
   "source": [
    "y_pred3 = vcf.predict(x_test_new)\n",
    "vcf_accuracy = accuracy_score(y_test,y_pred3)\n",
    "vcf_confusionmatrix = confusion_matrix(y_test,y_pred3)\n",
    "vcf_precisionscore = precision_score(y_test,y_pred3)\n",
    "print(vcf_accuracy)\n",
    "print(vcf_confusionmatrix)\n",
    "print(vcf_precisionscore)"
   ]
  },
  {
   "cell_type": "code",
   "execution_count": null,
   "id": "4363ac41",
   "metadata": {},
   "outputs": [],
   "source": []
  },
  {
   "cell_type": "code",
   "execution_count": null,
   "id": "27298f1d",
   "metadata": {},
   "outputs": [],
   "source": []
  }
 ],
 "metadata": {
  "kernelspec": {
   "display_name": "Python 3 (ipykernel)",
   "language": "python",
   "name": "python3"
  },
  "language_info": {
   "codemirror_mode": {
    "name": "ipython",
    "version": 3
   },
   "file_extension": ".py",
   "mimetype": "text/x-python",
   "name": "python",
   "nbconvert_exporter": "python",
   "pygments_lexer": "ipython3",
   "version": "3.9.12"
  }
 },
 "nbformat": 4,
 "nbformat_minor": 5
}
